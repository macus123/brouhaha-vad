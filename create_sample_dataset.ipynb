{
 "cells": [
  {
   "cell_type": "code",
   "execution_count": 1,
   "metadata": {},
   "outputs": [],
   "source": [
    "from datasets import load_dataset\n",
    "import torchaudio\n",
    "import torch\n",
    "import os\n",
    "import pandas as pd\n",
    "from sklearn.model_selection import train_test_split"
   ]
  },
  {
   "cell_type": "code",
   "execution_count": 2,
   "metadata": {},
   "outputs": [],
   "source": [
    "dataset = load_dataset(\"Jzuluaga/atco2_corpus_1h\")[\"test\"].train_test_split(test_size=0.2)"
   ]
  },
  {
   "cell_type": "code",
   "execution_count": 3,
   "metadata": {},
   "outputs": [],
   "source": [
    "# Config\n",
    "main_dir = \"STT/data\"\n",
    "audio_dir = os.path.join(main_dir, \"audio\")\n",
    "ref_dir = os.path.join(main_dir, \"ref\")\n",
    "audio_test_dir = os.path.join(main_dir, \"audio_test\")\n",
    "ref_test_dir = os.path.join(main_dir, \"ref_test\")\n",
    "sample_rate = 16000\n",
    "test_ratio = 0.2  # Adjust as needed"
   ]
  },
  {
   "cell_type": "code",
   "execution_count": 4,
   "metadata": {},
   "outputs": [
    {
     "name": "stdout",
     "output_type": "stream",
     "text": [
      "✅ STT-compatible VAD export complete:\n",
      "  TRAIN: 626\n",
      "  DEV:   70\n",
      "  TEST:  175\n"
     ]
    }
   ],
   "source": [
    "import os\n",
    "import torch\n",
    "import torchaudio\n",
    "from sklearn.model_selection import train_test_split\n",
    "\n",
    "# === CONFIG ===\n",
    "vad_audio_base = \"VAD_Input/Audio\"\n",
    "vad_ground_dir = \"VAD_Input/Ground\"\n",
    "sample_rate = 16000\n",
    "test_ratio = 0.2\n",
    "dev_ratio = 0.1  # portion of train set that goes to DEV\n",
    "\n",
    "# Ensure directories exist\n",
    "for d in [os.path.join(vad_audio_base, split) for split in [\"TRAIN\", \"DEV\", \"TEST\"]] + [vad_ground_dir]:\n",
    "    os.makedirs(d, exist_ok=True)\n",
    "\n",
    "# Combine dataset entries\n",
    "if \"all\" in dataset:\n",
    "    all_items = list(dataset[\"all\"])\n",
    "else:\n",
    "    all_items = list(dataset[\"train\"]) + list(dataset[\"test\"])\n",
    "\n",
    "# Filter valid items\n",
    "valid_items = [\n",
    "    item for item in all_items\n",
    "    if all(k in item for k in [\"id\", \"audio\", \"text\", \"segment_start_time\", \"segment_end_time\"])\n",
    "]\n",
    "\n",
    "# Deduplicate by ID\n",
    "unique_items = {str(item[\"id\"]): item for item in valid_items}\n",
    "\n",
    "# === SPLITTING ===\n",
    "all_ids = list(unique_items.keys())\n",
    "train_ids, test_ids = train_test_split(all_ids, test_size=test_ratio, random_state=42)\n",
    "train_ids, dev_ids = train_test_split(train_ids, test_size=dev_ratio, random_state=42)\n",
    "\n",
    "# Ensure disjoint sets\n",
    "train_set = set(train_ids)\n",
    "dev_set = set(dev_ids)\n",
    "test_set = set(test_ids)\n",
    "\n",
    "overlap = (train_set & dev_set) | (train_set & test_set) | (dev_set & test_set)\n",
    "if overlap:\n",
    "    raise ValueError(f\"❌ Overlapping IDs across splits: {overlap}\")\n",
    "\n",
    "# === HELPER FUNCTION ===\n",
    "def save_pair(item, split):\n",
    "    split_dir = os.path.join(vad_audio_base, split.upper())\n",
    "    os.makedirs(split_dir, exist_ok=True)\n",
    "\n",
    "    item_id = str(item[\"id\"])\n",
    "    audio_path = os.path.join(split_dir, f\"{item_id}.wav\")\n",
    "    ref_path = os.path.join(vad_ground_dir, f\"{item_id}.txt\")\n",
    "\n",
    "    # Save audio\n",
    "    waveform = torch.tensor(item[\"audio\"][\"array\"]).unsqueeze(0)\n",
    "    torchaudio.save(audio_path, waveform, sample_rate=sample_rate)\n",
    "\n",
    "    # Save text with STT-compatible format\n",
    "    with open(ref_path, \"w\") as f:\n",
    "        f.write(f\"{item['segment_start_time']}\\t{item['segment_end_time']}\\t{item['text']}\\n\")\n",
    "\n",
    "# === WRITE TO DISK ===\n",
    "for item_id in train_ids:\n",
    "    save_pair(unique_items[item_id], \"TRAIN\")\n",
    "\n",
    "for item_id in dev_ids:\n",
    "    save_pair(unique_items[item_id], \"DEV\")\n",
    "\n",
    "for item_id in test_ids:\n",
    "    save_pair(unique_items[item_id], \"TEST\")\n",
    "\n",
    "print(f\"✅ STT-compatible VAD export complete:\")\n",
    "print(f\"  TRAIN: {len(train_ids)}\")\n",
    "print(f\"  DEV:   {len(dev_ids)}\")\n",
    "print(f\"  TEST:  {len(test_ids)}\")\n"
   ]
  },
  {
   "cell_type": "code",
   "execution_count": null,
   "metadata": {},
   "outputs": [],
   "source": []
  }
 ],
 "metadata": {
  "kernelspec": {
   "display_name": "Python 3",
   "language": "python",
   "name": "python3"
  },
  "language_info": {
   "codemirror_mode": {
    "name": "ipython",
    "version": 3
   },
   "file_extension": ".py",
   "mimetype": "text/x-python",
   "name": "python",
   "nbconvert_exporter": "python",
   "pygments_lexer": "ipython3",
   "version": "3.10.11"
  }
 },
 "nbformat": 4,
 "nbformat_minor": 2
}
